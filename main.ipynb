{
 "cells": [
  {
   "cell_type": "code",
   "execution_count": 2,
   "metadata": {},
   "outputs": [
    {
     "name": "stdout",
     "output_type": "stream",
     "text": [
      "Collecting pandas\n",
      "  Using cached pandas-2.0.3-cp311-cp311-win_amd64.whl (10.6 MB)\n",
      "Requirement already satisfied: python-dateutil>=2.8.2 in c:\\users\\ayush\\onedrive\\desktop\\main\\venv\\lib\\site-packages (from pandas) (2.8.2)\n",
      "Collecting pytz>=2020.1 (from pandas)\n",
      "  Using cached pytz-2023.3-py2.py3-none-any.whl (502 kB)\n",
      "Collecting tzdata>=2022.1 (from pandas)\n",
      "  Using cached tzdata-2023.3-py2.py3-none-any.whl (341 kB)\n",
      "Requirement already satisfied: numpy>=1.21.0 in c:\\users\\ayush\\onedrive\\desktop\\main\\venv\\lib\\site-packages (from pandas) (1.25.2)\n",
      "Requirement already satisfied: six>=1.5 in c:\\users\\ayush\\onedrive\\desktop\\main\\venv\\lib\\site-packages (from python-dateutil>=2.8.2->pandas) (1.16.0)\n",
      "Installing collected packages: pytz, tzdata, pandas\n",
      "Successfully installed pandas-2.0.3 pytz-2023.3 tzdata-2023.3\n",
      "Note: you may need to restart the kernel to use updated packages.\n"
     ]
    },
    {
     "name": "stderr",
     "output_type": "stream",
     "text": [
      "\n",
      "[notice] A new release of pip is available: 23.1.2 -> 23.2.1\n",
      "[notice] To update, run: python.exe -m pip install --upgrade pip\n"
     ]
    },
    {
     "name": "stdout",
     "output_type": "stream",
     "text": [
      "       Marks       Rank\n",
      "0  92.640523  65.736015\n",
      "1  79.001572  42.761991\n",
      "2  84.787380  46.041265\n",
      "3  97.408932  63.551450\n",
      "4  93.675580  50.972173\n"
     ]
    }
   ],
   "source": [
    "# creating a dummy dataset for the purpose of this tutorial\n",
    "# marks_vs_rank.csv\n",
    "%pip install pandas\n",
    "import numpy as np\n",
    "import pandas as pd\n",
    "\n",
    "# Set a random seed for reproducibility\n",
    "np.random.seed(0)\n",
    "\n",
    "# Generate a sample of marks\n",
    "num_samples = 100\n",
    "mean_marks = 75\n",
    "std_deviation_marks = 10\n",
    "marks = np.random.normal(mean_marks, std_deviation_marks, num_samples)\n",
    "\n",
    "# Generate a corresponding set of ranks\n",
    "# You can create a linear relationship between marks and ranks\n",
    "# For simplicity, we'll use a linear equation: rank = a * marks + b + noise\n",
    "a = 0.5  # Slope of the line\n",
    "b = 10   # Intercept\n",
    "noise = np.random.normal(0, 5, num_samples)  # Adding some random noise to the relationship\n",
    "ranks = a * marks + b + noise\n",
    "\n",
    "# Create a DataFrame to store the data\n",
    "data = pd.DataFrame({'Marks': marks, 'Rank': ranks})\n",
    "\n",
    "# Display the first few rows of the dataset\n",
    "print(data.head())\n",
    "\n",
    "# Save the dataset to a CSV file\n",
    "data.to_csv('marks_vs_rank.csv', index=False)\n"
   ]
  },
  {
   "cell_type": "code",
   "execution_count": 3,
   "metadata": {},
   "outputs": [
    {
     "name": "stdout",
     "output_type": "stream",
     "text": [
      "Requirement already satisfied: scikit-learn in c:\\users\\ayush\\onedrive\\desktop\\main\\venv\\lib\\site-packages (1.3.0)\n",
      "Requirement already satisfied: numpy>=1.17.3 in c:\\users\\ayush\\onedrive\\desktop\\main\\venv\\lib\\site-packages (from scikit-learn) (1.25.2)\n",
      "Requirement already satisfied: scipy>=1.5.0 in c:\\users\\ayush\\onedrive\\desktop\\main\\venv\\lib\\site-packages (from scikit-learn) (1.11.2)\n",
      "Requirement already satisfied: joblib>=1.1.1 in c:\\users\\ayush\\onedrive\\desktop\\main\\venv\\lib\\site-packages (from scikit-learn) (1.3.2)\n",
      "Requirement already satisfied: threadpoolctl>=2.0.0 in c:\\users\\ayush\\onedrive\\desktop\\main\\venv\\lib\\site-packages (from scikit-learn) (3.2.0)\n",
      "Note: you may need to restart the kernel to use updated packages.\n"
     ]
    },
    {
     "name": "stderr",
     "output_type": "stream",
     "text": [
      "\n",
      "[notice] A new release of pip is available: 23.1.2 -> 23.2.1\n",
      "[notice] To update, run: python.exe -m pip install --upgrade pip\n"
     ]
    },
    {
     "name": "stdout",
     "output_type": "stream",
     "text": [
      "                       Model  Mean Absolute Error  Mean Squared Error  \\\n",
      "0          Linear Regression             5.054261           34.998203   \n",
      "1   Decision Tree Regression             5.534801           45.372294   \n",
      "2   Random Forest Regression             4.499778           30.093511   \n",
      "3  Support Vector Regression             4.834901           32.801545   \n",
      "\n",
      "   R-squared  \n",
      "0   0.561281  \n",
      "1   0.431237  \n",
      "2   0.622764  \n",
      "3   0.588818  \n"
     ]
    }
   ],
   "source": [
    "%pip install scikit-learn\n",
    "import pandas as pd\n",
    "from sklearn.model_selection import train_test_split\n",
    "from sklearn.linear_model import LinearRegression\n",
    "from sklearn.tree import DecisionTreeRegressor\n",
    "from sklearn.ensemble import RandomForestRegressor\n",
    "from sklearn.svm import SVR\n",
    "from sklearn.metrics import mean_absolute_error, mean_squared_error, r2_score\n",
    "\n",
    "# Load the dataset\n",
    "data = pd.read_csv('marks_vs_rank.csv')\n",
    "\n",
    "# Separate the features (marks) and target variable (rank)\n",
    "X = data['Marks'].values.reshape(-1, 1)\n",
    "y = data['Rank']\n",
    "\n",
    "# Split the data into training and testing sets\n",
    "X_train, X_test, y_train, y_test = train_test_split(X, y, test_size=0.2, random_state=42)\n",
    "\n",
    "# Initialize and train different regression models\n",
    "models = {\n",
    "    'Linear Regression': LinearRegression(),\n",
    "    'Decision Tree Regression': DecisionTreeRegressor(),\n",
    "    'Random Forest Regression': RandomForestRegressor(n_estimators=100),\n",
    "    'Support Vector Regression': SVR(kernel='linear')\n",
    "}\n",
    "\n",
    "results = []\n",
    "\n",
    "for model_name, model in models.items():\n",
    "    model.fit(X_train, y_train)\n",
    "    y_pred = model.predict(X_test)\n",
    "    \n",
    "    mae = mean_absolute_error(y_test, y_pred)\n",
    "    mse = mean_squared_error(y_test, y_pred)\n",
    "    r2 = r2_score(y_test, y_pred)\n",
    "    \n",
    "    results.append([model_name, mae, mse, r2])\n",
    "\n",
    "# Display the results\n",
    "results_df = pd.DataFrame(results, columns=['Model', 'Mean Absolute Error', 'Mean Squared Error', 'R-squared'])\n",
    "print(results_df)\n"
   ]
  },
  {
   "cell_type": "code",
   "execution_count": 4,
   "metadata": {},
   "outputs": [
    {
     "name": "stdout",
     "output_type": "stream",
     "text": [
      "Requirement already satisfied: joblib in c:\\users\\ayush\\onedrive\\desktop\\main\\venv\\lib\\site-packages (1.3.2)\n",
      "Note: you may need to restart the kernel to use updated packages.\n"
     ]
    },
    {
     "name": "stderr",
     "output_type": "stream",
     "text": [
      "\n",
      "[notice] A new release of pip is available: 23.1.2 -> 23.2.1\n",
      "[notice] To update, run: python.exe -m pip install --upgrade pip\n"
     ]
    },
    {
     "name": "stdout",
     "output_type": "stream",
     "text": [
      "[34.82239753 37.24622239 50.53768627 48.42251274 43.43838433 44.52592824\n",
      " 47.1703688  37.24622239 51.99770681 57.40713778 46.43252185 49.71606669\n",
      " 37.36647419 38.68601967 48.67753937 53.33244841 45.3524886  39.99487412\n",
      " 53.05272391 54.60014898]\n"
     ]
    },
    {
     "name": "stderr",
     "output_type": "stream",
     "text": [
      "\n",
      "[notice] A new release of pip is available: 23.1.2 -> 23.2.1\n",
      "[notice] To update, run: python.exe -m pip install --upgrade pip\n"
     ]
    },
    {
     "name": "stdout",
     "output_type": "stream",
     "text": [
      "Collecting matplotlib\n",
      "  Using cached matplotlib-3.7.2-cp311-cp311-win_amd64.whl (7.5 MB)\n",
      "Collecting contourpy>=1.0.1 (from matplotlib)\n",
      "  Using cached contourpy-1.1.0-cp311-cp311-win_amd64.whl (470 kB)\n",
      "Collecting cycler>=0.10 (from matplotlib)\n",
      "  Using cached cycler-0.11.0-py3-none-any.whl (6.4 kB)\n",
      "Collecting fonttools>=4.22.0 (from matplotlib)\n",
      "  Downloading fonttools-4.42.1-cp311-cp311-win_amd64.whl (2.1 MB)\n",
      "                                              0.0/2.1 MB ? eta -:--:--\n",
      "                                              0.0/2.1 MB ? eta -:--:--\n",
      "     -                                        0.1/2.1 MB 1.2 MB/s eta 0:00:02\n",
      "     --                                       0.1/2.1 MB 1.0 MB/s eta 0:00:02\n",
      "     ----                                     0.2/2.1 MB 1.5 MB/s eta 0:00:02\n",
      "     ------                                   0.4/2.1 MB 1.6 MB/s eta 0:00:02\n",
      "     -------                                  0.4/2.1 MB 1.6 MB/s eta 0:00:02\n",
      "     ----------                               0.6/2.1 MB 1.9 MB/s eta 0:00:01\n",
      "     -----------------                        0.9/2.1 MB 2.5 MB/s eta 0:00:01\n",
      "     -------------------                      1.0/2.1 MB 2.6 MB/s eta 0:00:01\n",
      "     -----------------------------------      1.9/2.1 MB 4.2 MB/s eta 0:00:01\n",
      "     ------------------------------------     1.9/2.1 MB 3.9 MB/s eta 0:00:01\n",
      "     ---------------------------------------- 2.1/2.1 MB 4.0 MB/s eta 0:00:00\n",
      "Collecting kiwisolver>=1.0.1 (from matplotlib)\n",
      "  Downloading kiwisolver-1.4.5-cp311-cp311-win_amd64.whl (56 kB)\n",
      "                                              0.0/56.1 kB ? eta -:--:--\n",
      "     ---------------------------------------- 56.1/56.1 kB ? eta 0:00:00\n",
      "Requirement already satisfied: numpy>=1.20 in c:\\users\\ayush\\onedrive\\desktop\\main\\venv\\lib\\site-packages (from matplotlib) (1.25.2)\n",
      "Requirement already satisfied: packaging>=20.0 in c:\\users\\ayush\\onedrive\\desktop\\main\\venv\\lib\\site-packages (from matplotlib) (23.1)\n",
      "Requirement already satisfied: pillow>=6.2.0 in c:\\users\\ayush\\onedrive\\desktop\\main\\venv\\lib\\site-packages (from matplotlib) (10.0.0)\n",
      "Collecting pyparsing<3.1,>=2.3.1 (from matplotlib)\n",
      "  Using cached pyparsing-3.0.9-py3-none-any.whl (98 kB)\n",
      "Requirement already satisfied: python-dateutil>=2.7 in c:\\users\\ayush\\onedrive\\desktop\\main\\venv\\lib\\site-packages (from matplotlib) (2.8.2)\n",
      "Requirement already satisfied: six>=1.5 in c:\\users\\ayush\\onedrive\\desktop\\main\\venv\\lib\\site-packages (from python-dateutil>=2.7->matplotlib) (1.16.0)\n",
      "Installing collected packages: pyparsing, kiwisolver, fonttools, cycler, contourpy, matplotlib\n",
      "Successfully installed contourpy-1.1.0 cycler-0.11.0 fonttools-4.42.1 kiwisolver-1.4.5 matplotlib-3.7.2 pyparsing-3.0.9\n",
      "Note: you may need to restart the kernel to use updated packages.\n"
     ]
    },
    {
     "data": {
      "image/png": "[encoded data removed]",
      "text/plain": [
       "<Figure size 640x480 with 1 Axes>"
      ]
     },
     "metadata": {},
     "output_type": "display_data"
    }
   ],
   "source": [
    "%pip install joblib\n",
    "import joblib\n",
    "\n",
    "# Save the best model as a pickle file\n",
    "best_model = RandomForestRegressor(n_estimators=100)\n",
    "best_model.fit(X_train, y_train)\n",
    "joblib.dump(best_model, 'best_model.pkl')\n",
    "\n",
    "# Load the pickle file\n",
    "loaded_model = joblib.load('best_model.pkl')\n",
    "\n",
    "# Make predictions on the test data\n",
    "y_pred = loaded_model.predict(X_test)\n",
    "\n",
    "# Display the predictions\n",
    "print(y_pred)\n",
    "\n",
    "# Save the predictions to a CSV file\n",
    "output = pd.DataFrame({'Marks': X_test.reshape(1, -1)[0], 'Predicted Rank': y_pred})\n",
    "output.to_csv('predictions.csv', index=False)\n",
    "\n",
    "# Plot the predictions\n",
    "%pip install matplotlib\n",
    "import matplotlib.pyplot as plt\n",
    "\n",
    "plt.scatter(X_test, y_test, color='black')\n",
    "plt.plot(X_test, y_pred, color='blue', linewidth=3)\n",
    "plt.xlabel('Marks')\n",
    "plt.ylabel('Rank')\n",
    "plt.title('Rank vs Marks')\n",
    "plt.show()\n",
    "\n"
   ]
  }
 ],
 "metadata": {
  "kernelspec": {
   "display_name": "venv",
   "language": "python",
   "name": "python3"
  },
  "language_info": {
   "codemirror_mode": {
    "name": "ipython",
    "version": 3
   },
   "file_extension": ".py",
   "mimetype": "text/x-python",
   "name": "python",
   "nbconvert_exporter": "python",
   "pygments_lexer": "ipython3",
   "version": "3.11.4"
  },
  "orig_nbformat": 4
 },
 "nbformat": 4,
 "nbformat_minor": 2
}
